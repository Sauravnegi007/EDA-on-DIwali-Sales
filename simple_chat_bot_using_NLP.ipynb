{
  "nbformat": 4,
  "nbformat_minor": 0,
  "metadata": {
    "colab": {
      "provenance": [],
      "authorship_tag": "ABX9TyOm4Szxiq0oV7LvNGbIooHF",
      "include_colab_link": true
    },
    "kernelspec": {
      "name": "python3",
      "display_name": "Python 3"
    },
    "language_info": {
      "name": "python"
    }
  },
  "cells": [
    {
      "cell_type": "markdown",
      "metadata": {
        "id": "view-in-github",
        "colab_type": "text"
      },
      "source": [
        "<a href=\"https://colab.research.google.com/github/Sauravnegi007/data-science/blob/main/simple_chat_bot_using_NLP.ipynb\" target=\"_parent\"><img src=\"https://colab.research.google.com/assets/colab-badge.svg\" alt=\"Open In Colab\"/></a>"
      ]
    },
    {
      "cell_type": "code",
      "execution_count": null,
      "metadata": {
        "colab": {
          "base_uri": "https://localhost:8080/"
        },
        "id": "CYISYcxtbP21",
        "outputId": "aec4b908-f483-4bb3-a325-171bfb55dc05"
      },
      "outputs": [
        {
          "output_type": "stream",
          "name": "stdout",
          "text": [
            "Hello! I'm a simple chatbot. Type 'quit' to exit.\n"
          ]
        }
      ],
      "source": [
        "import nltk\n",
        "from nltk.chat.util import Chat, reflections\n",
        "\n",
        "# Define pairs of patterns and responses for the chatbot\n",
        "pairs = [\n",
        "    [\n",
        "        r\"my name is (.*)\",\n",
        "        [\"Hello %1! How can I help you today?\",]\n",
        "    ],\n",
        "    [\n",
        "        r\"what is your name?\",\n",
        "        [\"I'm a simple chatbot.\",]\n",
        "    ],\n",
        "    [\n",
        "        r\"how are you\",\n",
        "        [\"I'm doing well, thank you!\",]\n",
        "    ],\n",
        "    [\n",
        "        r\"(.*) your name?\",\n",
        "        [\"I'm a chatbot. You can call me ChatGPT.\",]\n",
        "    ],\n",
        "    [\n",
        "        r\"quit\",\n",
        "        [\"Goodbye! Have a great day.\",]\n",
        "    ],\n",
        "]\n",
        "\n",
        "# Create a chatbot using the pairs defined\n",
        "chatbot = Chat(pairs, reflections)\n",
        "\n",
        "# Function to start the chat\n",
        "def start_chat():\n",
        "    print(\"Hello! I'm a simple chatbot. Type 'quit' to exit.\")\n",
        "    chatbot.converse()\n",
        "\n",
        "# Start the chat\n",
        "if __name__ == \"__main__\":\n",
        "    start_chat()\n"
      ]
    }
  ]
}